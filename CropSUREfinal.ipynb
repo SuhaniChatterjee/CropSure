{
 "cells": [
  {
   "cell_type": "code",
   "execution_count": 2,
   "id": "d29ca2d0-bb71-4993-acd6-ca05cb648ffb",
   "metadata": {},
   "outputs": [],
   "source": [
    "DATASET_PATH = \"/Users/mac_user/PlantVillage-Dataset/raw\"\n"
   ]
  },
  {
   "cell_type": "code",
   "execution_count": 10,
   "id": "ce136c6b-7ee8-4711-a726-e9595bd467d4",
   "metadata": {},
   "outputs": [
    {
     "name": "stdout",
     "output_type": "stream",
     "text": [
      "Found 130333 images belonging to 3 classes.\n",
      "Found 32583 images belonging to 3 classes.\n"
     ]
    }
   ],
   "source": [
    "#This code is setting up data preprocessing for training and validating a deep learning model using images.  \n",
    "from tensorflow.keras.preprocessing.image import ImageDataGenerator\n",
    "\n",
    "IMAGE_SIZE = (224, 224)\n",
    "BATCH_SIZE = 32\n",
    "\n",
    "datagen = ImageDataGenerator(\n",
    "    rescale=1./255,\n",
    "    validation_split=0.2\n",
    ")\n",
    "\n",
    "train_gen = datagen.flow_from_directory(\n",
    "    DATASET_PATH,\n",
    "    target_size=IMAGE_SIZE,\n",
    "    batch_size=BATCH_SIZE,\n",
    "    class_mode='categorical',\n",
    "    subset='training'\n",
    ")\n",
    "\n",
    "val_gen = datagen.flow_from_directory(\n",
    "    DATASET_PATH,\n",
    "    target_size=IMAGE_SIZE,\n",
    "    batch_size=BATCH_SIZE,\n",
    "    class_mode='categorical',\n",
    "    subset='validation'\n",
    ")\n"
   ]
  },
  {
   "cell_type": "code",
   "execution_count": 4,
   "id": "683a5445-16ca-475a-95ae-cb046d0a4f83",
   "metadata": {},
   "outputs": [],
   "source": [
    "from tensorflow.keras.applications import MobileNetV2\n",
    "from tensorflow.keras.models import Sequential\n",
    "from tensorflow.keras.layers import GlobalAveragePooling2D, Dense, Dropout\n",
    "from tensorflow.keras.optimizers import Adam\n",
    "\n",
    "base_model = MobileNetV2(input_shape=(224, 224, 3), include_top=False, weights='imagenet')\n",
    "base_model.trainable = False  # Freeze base layers\n",
    "\n",
    "model = Sequential([\n",
    "    base_model,\n",
    "    GlobalAveragePooling2D(),\n",
    "    Dropout(0.3),\n",
    "    Dense(128, activation='relu'),\n",
    "    Dropout(0.2),\n",
    "    Dense(train_gen.num_classes, activation='softmax')  # Adjusts automatically to class count\n",
    "])\n"
   ]
  },
  {
   "cell_type": "code",
   "execution_count": 5,
   "id": "9a9b2b9e-3e96-43e2-a7a6-82dec6e955e5",
   "metadata": {},
   "outputs": [],
   "source": [
    "model.compile(\n",
    "    optimizer=Adam(learning_rate=0.0001),\n",
    "    loss='categorical_crossentropy',\n",
    "    metrics=['accuracy']\n",
    ")\n"
   ]
  },
  {
   "cell_type": "code",
   "execution_count": 6,
   "id": "1e4197b1-7def-4ee6-950d-da6fafebb457",
   "metadata": {},
   "outputs": [
    {
     "name": "stdout",
     "output_type": "stream",
     "text": [
      "Epoch 1/5\n"
     ]
    },
    {
     "name": "stderr",
     "output_type": "stream",
     "text": [
      "/opt/anaconda3/lib/python3.11/site-packages/keras/src/trainers/data_adapters/py_dataset_adapter.py:121: UserWarning: Your `PyDataset` class should call `super().__init__(**kwargs)` in its constructor. `**kwargs` can include `workers`, `use_multiprocessing`, `max_queue_size`. Do not pass these arguments to `fit()`, as they will be ignored.\n",
      "  self._warn_if_super_not_called()\n"
     ]
    },
    {
     "name": "stdout",
     "output_type": "stream",
     "text": [
      "\u001b[1m4073/4073\u001b[0m \u001b[32m━━━━━━━━━━━━━━━━━━━━\u001b[0m\u001b[37m\u001b[0m \u001b[1m2603s\u001b[0m 638ms/step - accuracy: 0.9546 - loss: 0.1252 - val_accuracy: 0.8910 - val_loss: 0.3937\n",
      "Epoch 2/5\n",
      "\u001b[1m4073/4073\u001b[0m \u001b[32m━━━━━━━━━━━━━━━━━━━━\u001b[0m\u001b[37m\u001b[0m \u001b[1m9221s\u001b[0m 2s/step - accuracy: 0.9951 - loss: 0.0175 - val_accuracy: 0.8903 - val_loss: 0.4093\n",
      "Epoch 3/5\n",
      "\u001b[1m4073/4073\u001b[0m \u001b[32m━━━━━━━━━━━━━━━━━━━━\u001b[0m\u001b[37m\u001b[0m \u001b[1m16885s\u001b[0m 4s/step - accuracy: 0.9951 - loss: 0.0149 - val_accuracy: 0.8936 - val_loss: 0.3871\n",
      "Epoch 4/5\n",
      "\u001b[1m4073/4073\u001b[0m \u001b[32m━━━━━━━━━━━━━━━━━━━━\u001b[0m\u001b[37m\u001b[0m \u001b[1m2337s\u001b[0m 574ms/step - accuracy: 0.9962 - loss: 0.0122 - val_accuracy: 0.8953 - val_loss: 0.4160\n",
      "Epoch 5/5\n",
      "\u001b[1m4073/4073\u001b[0m \u001b[32m━━━━━━━━━━━━━━━━━━━━\u001b[0m\u001b[37m\u001b[0m \u001b[1m2484s\u001b[0m 610ms/step - accuracy: 0.9969 - loss: 0.0098 - val_accuracy: 0.8946 - val_loss: 0.4154\n"
     ]
    }
   ],
   "source": [
    "EPOCHS = 5  # Start small; increase if needed\n",
    "\n",
    "history = model.fit(\n",
    "    train_gen,\n",
    "    validation_data=val_gen,\n",
    "    epochs=EPOCHS\n",
    ")\n"
   ]
  },
  {
   "cell_type": "code",
   "execution_count": 8,
   "id": "5099ba40-931a-4193-bdb9-314b2d26f841",
   "metadata": {},
   "outputs": [],
   "source": [
    "model.save(\"CropSURE_model.keras\")"
   ]
  },
  {
   "cell_type": "code",
   "execution_count": 9,
   "id": "3950a176-df0d-4eb7-94cb-912d6bef1b58",
   "metadata": {},
   "outputs": [
    {
     "name": "stdout",
     "output_type": "stream",
     "text": [
      "\u001b[1m1/1\u001b[0m \u001b[32m━━━━━━━━━━━━━━━━━━━━\u001b[0m\u001b[37m\u001b[0m \u001b[1m1s\u001b[0m 597ms/step\n",
      "Predicted Disease: Tomato___Early_blight\n"
     ]
    }
   ],
   "source": [
    "from tensorflow.keras.preprocessing import image\n",
    "import numpy as np\n",
    "from tensorflow.keras.models import load_model\n",
    "\n",
    "# Load the model\n",
    "model = load_model(\"CropSURE_model.keras\")  # Replace with your saved model path\n",
    "\n",
    "# Load and preprocess the test image\n",
    "img_path = \"/Users/mac_user/test_leaf.png\"  # Replace with the correct path to your image\n",
    "img = image.load_img(img_path, target_size=(224, 224))  # Resize image to match model input\n",
    "img_array = image.img_to_array(img) / 255.0  # Convert to array and normalize\n",
    "img_array = np.expand_dims(img_array, axis=0)  # Add batch dimension\n",
    "\n",
    "# Predict using the trained model\n",
    "prediction = model.predict(img_array)\n",
    "\n",
    "# Get class labels from training data (reuse train_gen)\n",
    "class_indices = {'Tomato___Early_blight': 0, 'Tomato___Late_blight': 1}  # Replace with actual mapping\n",
    "labels = {v: k for k, v in class_indices.items()}\n",
    "\n",
    "# Print the predicted class\n",
    "predicted_class = labels[np.argmax(prediction)]\n",
    "print(f\"Predicted Disease: {predicted_class}\")\n"
   ]
  },
  {
   "cell_type": "code",
   "execution_count": null,
   "id": "790fbdd1-0dee-4796-bc2a-3bc923fa37e9",
   "metadata": {},
   "outputs": [],
   "source": []
  }
 ],
 "metadata": {
  "kernelspec": {
   "display_name": "Python 3 (ipykernel)",
   "language": "python",
   "name": "python3"
  },
  "language_info": {
   "codemirror_mode": {
    "name": "ipython",
    "version": 3
   },
   "file_extension": ".py",
   "mimetype": "text/x-python",
   "name": "python",
   "nbconvert_exporter": "python",
   "pygments_lexer": "ipython3",
   "version": "3.11.7"
  }
 },
 "nbformat": 4,
 "nbformat_minor": 5
}
